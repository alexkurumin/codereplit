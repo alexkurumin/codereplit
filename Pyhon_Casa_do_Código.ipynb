{
  "nbformat": 4,
  "nbformat_minor": 0,
  "metadata": {
    "colab": {
      "name": "Pyhon - Casa do Código",
      "provenance": [],
      "collapsed_sections": [],
      "authorship_tag": "ABX9TyNZkUB33ZTp72sMFiPvX5SN",
      "include_colab_link": true
    },
    "kernelspec": {
      "name": "python3",
      "display_name": "Python 3"
    },
    "language_info": {
      "name": "python"
    }
  },
  "cells": [
    {
      "cell_type": "markdown",
      "metadata": {
        "id": "view-in-github",
        "colab_type": "text"
      },
      "source": [
        "<a href=\"https://colab.research.google.com/github/alexkurumin/codereplit/blob/main/Pyhon_Casa_do_C%C3%B3digo.ipynb\" target=\"_parent\"><img src=\"https://colab.research.google.com/assets/colab-badge.svg\" alt=\"Open In Colab\"/></a>"
      ]
    },
    {
      "cell_type": "code",
      "metadata": {
        "id": "s8oaIvCFhXP8"
      },
      "source": [
        "copa = 'copa do mundo'\n",
        "print(copa.split(\" \"))"
      ],
      "execution_count": null,
      "outputs": []
    },
    {
      "cell_type": "code",
      "metadata": {
        "id": "SEOWExGvhhgb"
      },
      "source": [
        "copa1 = \"\".join(['Copa do Mundo'])\n",
        "print(copa1)"
      ],
      "execution_count": null,
      "outputs": []
    },
    {
      "cell_type": "code",
      "metadata": {
        "id": "gr3QM4_AjvAd"
      },
      "source": [
        "copa2 = 'Copa do Mundo'\n",
        "print(copa2.replace('do Mundo', 'da Galaxia'))"
      ],
      "execution_count": null,
      "outputs": []
    },
    {
      "cell_type": "code",
      "metadata": {
        "id": "NVNJdy5bjw5e"
      },
      "source": [
        "texto1 = 'Se for mistér partir um dia para a guerra'\n",
        "print('{:.^60}'.format(texto1))"
      ],
      "execution_count": null,
      "outputs": []
    },
    {
      "cell_type": "code",
      "metadata": {
        "colab": {
          "base_uri": "https://localhost:8080/"
        },
        "id": "_oC-rimrlA5t",
        "outputId": "eebfeac7-3e46-4e12-fe94-c383782d9f14"
      },
      "source": [
        "salario = int(input('Salário: '))\n",
        "imposto = float(input('Importo em % [ex: 27.5]: '))\n",
        "calc = salario-(salario*(imposto*0.01))\n",
        "print(f'Valor real: {calc:.2f}')"
      ],
      "execution_count": null,
      "outputs": [
        {
          "output_type": "stream",
          "name": "stdout",
          "text": [
            "Salário: 1200\n",
            "Importo em % [ex: 27.5]: 27.5\n",
            "Valor real: 870.00\n"
          ]
        }
      ]
    },
    {
      "cell_type": "code",
      "metadata": {
        "id": "VTYSZFNAljdG"
      },
      "source": [
        "nome01 = 'alexander'\n",
        "nome02 = 'maria'\n",
        "len(nome01) != len(nome02)\n",
        "for i in nome02:\n",
        "    print(i, end = ' ')\n",
        "print()\n",
        "for l in nome01:\n",
        "    print(l.upper(), end = ' ')"
      ],
      "execution_count": null,
      "outputs": []
    },
    {
      "cell_type": "code",
      "metadata": {
        "id": "wO77jXROmuGR"
      },
      "source": [
        "print('''\n",
        "- Quem recebe até R$ 1.903,98 é isento do tributo.\n",
        "- Entre R$ 1.903,99 e R$ 2.826,65, o imposto é de 7,5%. \n",
        "- Entre R$ 2.826,66 e 3.751,05, a taxa é de 15%.\n",
        "- O tributo é de 22,5% para quem ganha entre R$ 3.751,06 e R$ 4.664,68.\n",
        "''')\n",
        "\n",
        "print('{:^50}'.format('#'*50))\n",
        "print('{:#^50}'.format(' Cálculo do Imposto Devido '))\n",
        "print('{:^50}'.format('#'*50))\n",
        "\n",
        "salario_mensal = float(input('Salário Mensal: '))\n",
        "if salario_mensal <= 1903.98:\n",
        "    print('Você é Isento.')\n",
        "elif salario_mensal >= 1903.99 and salario_mensal <= 2826.65:\n",
        "    print('O imposto é de 7,5%')\n",
        "elif salario_mensal >= 2826.66 and salario_mensal <= 3751.05:\n",
        "    print('O imposto é de 15%')\n",
        "elif salario_mensal >= 3751.06 and salario_mensal <= 4664.68:\n",
        "    print('O imposto é de 22,5%')\n",
        "elif salario_mensal > 4664.68:\n",
        "    print('O imposto é de 27%')\n"
      ],
      "execution_count": null,
      "outputs": []
    },
    {
      "cell_type": "code",
      "metadata": {
        "colab": {
          "base_uri": "https://localhost:8080/",
          "height": 36
        },
        "id": "897PsKtBGKta",
        "outputId": "c61cb05b-4ea3-4dd9-d05e-5d047d1989e1"
      },
      "source": [
        "imposto = 0.3\n",
        "'Alto' if imposto > 0.26 else 'Baixo'"
      ],
      "execution_count": null,
      "outputs": [
        {
          "output_type": "execute_result",
          "data": {
            "application/vnd.google.colaboratory.intrinsic+json": {
              "type": "string"
            },
            "text/plain": [
              "'Alto'"
            ]
          },
          "metadata": {},
          "execution_count": 85
        }
      ]
    },
    {
      "cell_type": "code",
      "metadata": {
        "id": "I2pDRRfgGpLr"
      },
      "source": [
        "valor_imposto = 'Alto' if imposto > 0.27 else 'Baix'\n",
        "print(f'O valor do imposto é: {valor_imposto}.')"
      ],
      "execution_count": null,
      "outputs": []
    },
    {
      "cell_type": "code",
      "metadata": {
        "id": "I5qBhMENHNo3"
      },
      "source": [
        "salario = int(input('Salario: '))\n",
        "imposto = 27.\n",
        "while imposto > 0:\n",
        "    imposto = input('Imposto ou (s) para sair: ')\n",
        "    if not imposto:\n",
        "        imposto = 27.\n",
        "    elif imposto == 's':\n",
        "        print('Saiu do loop')\n",
        "        break        \n",
        "    else:\n",
        "        imposto = float(imposto)\n",
        "        print(\"Valor real: {0}\".format(salario - (salario * imposto * 0.01)))"
      ],
      "execution_count": null,
      "outputs": []
    },
    {
      "cell_type": "code",
      "metadata": {
        "colab": {
          "base_uri": "https://localhost:8080/"
        },
        "id": "ZioJjfOZId7b",
        "outputId": "e41c6448-7d51-4377-c565-d1fc0fb64805"
      },
      "source": [
        "lista01 = []\n",
        "# 'alex', 'maria', 'gabi', 'sofia', 'luna'\n",
        "# print(lista01)\n",
        "# lista01[4] = 'cahorro da família'\n",
        "# print(lista01)\n",
        "# print(lista01[0:2])\n",
        "# print(lista01[-1])\n",
        "\n",
        "if lista01:\n",
        "    print('A lista não está vazia')\n",
        "else:\n",
        "    print('A lista está vazia')"
      ],
      "execution_count": null,
      "outputs": [
        {
          "output_type": "stream",
          "name": "stdout",
          "text": [
            "A lista está vazia\n"
          ]
        }
      ]
    },
    {
      "cell_type": "code",
      "metadata": {
        "id": "sAeapDErJq0e"
      },
      "source": [
        "tipo_de_impostos = ['SIMPLES', 'MEI']\n",
        "for imposto in tipo_de_impostos:\n",
        "    print(f'Tipo de Imposto: {imposto}')"
      ],
      "execution_count": null,
      "outputs": []
    },
    {
      "cell_type": "code",
      "metadata": {
        "colab": {
          "base_uri": "https://localhost:8080/"
        },
        "id": "tYx_uQVfLzVb",
        "outputId": "c34aa8ee-32e2-4ed2-c5ba-ed5189bd2a5a"
      },
      "source": [
        "nova_lista = []\n",
        "for i in list(range(0, 21)):\n",
        "    print(pow(i,2), end = ' ')\n",
        "    nova_lista.append(i)\n",
        "print()\n",
        "for n in nova_lista:\n",
        "    print(n, end = ' ')\n",
        "print()\n",
        "print(nova_lista)"
      ],
      "execution_count": null,
      "outputs": [
        {
          "output_type": "stream",
          "name": "stdout",
          "text": [
            "0 1 4 9 16 25 36 49 64 81 100 121 144 169 196 225 256 289 324 361 400 \n",
            "0 1 2 3 4 5 6 7 8 9 10 11 12 13 14 15 16 17 18 19 20 \n",
            "[0, 1, 2, 3, 4, 5, 6, 7, 8, 9, 10, 11, 12, 13, 14, 15, 16, 17, 18, 19, 20]\n"
          ]
        }
      ]
    },
    {
      "cell_type": "code",
      "metadata": {
        "colab": {
          "base_uri": "https://localhost:8080/"
        },
        "id": "GUtra2-yMhKd",
        "outputId": "5b472916-c319-4aad-bf82-bbdf98fdc8bd"
      },
      "source": [
        "familia = ['alexander moreira', 'maria moreira', 'gabriela Lins', 'ana sofia lins']\n",
        "for n,f in enumerate(familia):\n",
        "    print(n+1, f.title())"
      ],
      "execution_count": null,
      "outputs": [
        {
          "output_type": "stream",
          "name": "stdout",
          "text": [
            "1 Alexander Moreira\n",
            "2 Maria Moreira\n",
            "3 Gabriela Lins\n",
            "4 Ana Sofia Lins\n"
          ]
        }
      ]
    },
    {
      "cell_type": "code",
      "metadata": {
        "colab": {
          "base_uri": "https://localhost:8080/"
        },
        "id": "NGraJrv-O4Sd",
        "outputId": "a5f99358-9021-45a9-dfb5-b37cbe3955ee"
      },
      "source": [
        "sobrenome = 'moreira'\n",
        "for n, l in enumerate(sobrenome):\n",
        "    print(n+1, l.title(), end = ' ')"
      ],
      "execution_count": null,
      "outputs": [
        {
          "output_type": "stream",
          "name": "stdout",
          "text": [
            "1 M 2 O 3 R 4 E 5 I 6 R 7 A "
          ]
        }
      ]
    },
    {
      "cell_type": "code",
      "metadata": {
        "id": "l1YP7tBoPS1M"
      },
      "source": [
        "def soma(a, b):\n",
        "    return a + b\n",
        "calculo = soma(53, 44)\n",
        "print(calculo)"
      ],
      "execution_count": null,
      "outputs": []
    },
    {
      "cell_type": "code",
      "metadata": {
        "id": "dJG7m-cZaSHN",
        "colab": {
          "base_uri": "https://localhost:8080/"
        },
        "outputId": "33bec541-5dc3-4724-c691-82532d91b693"
      },
      "source": [
        "def salario_descontado(salario, imposto = 27.):\n",
        "    return salario - (salario * imposto * 0.01)\n",
        "calculo = salario_descontado(float(input('Valor do salário: ')))\n",
        "print(calculo)"
      ],
      "execution_count": null,
      "outputs": [
        {
          "output_type": "stream",
          "name": "stdout",
          "text": [
            "Valor do salário: 5000\n",
            "3650.0\n"
          ]
        }
      ]
    },
    {
      "cell_type": "code",
      "metadata": {
        "id": "RD4LgJ27n9xd"
      },
      "source": [
        "from datetime import  date\n",
        "d = (2021, 10, 16)\n",
        "date(*d)"
      ],
      "execution_count": null,
      "outputs": []
    },
    {
      "cell_type": "code",
      "metadata": {
        "id": "_nmzl-odsX9x"
      },
      "source": [
        "Criando uma função para download na web"
      ],
      "execution_count": null,
      "outputs": []
    },
    {
      "cell_type": "code",
      "metadata": {
        "id": "Vb1nFSbVsdRX"
      },
      "source": [
        "import io\n",
        "import sys\n",
        "import urllib.request as request\n",
        "\n",
        "BUFF_SIZE = 1024\n",
        "def download_length(response, output, length):\n",
        "    times = length // BUFF_SIZE\n",
        "    if length % BUFF_SIZE > 0:\n",
        "        times += 1\n",
        "    for time in range(times):\n",
        "        output.write(response.read(BUFF_SIZE))\n",
        "        print(\"Downloaded %d\" % (((time * BUFF_SIZE)/length)*100))\n",
        "def download(response, output):\n",
        "    total_downloaded = 0\n",
        "    while True:\n",
        "        data = response.read(BUFF_SIZE)\n",
        "        total_downloaded += len(data)\n",
        "        if not data:\n",
        "            break\n",
        "        out_file.write(data)\n",
        "        print('Downloaded {bytes}'.format(bytes=total_downloaded))\n",
        "\n",
        "def main():\n",
        "    response = request.urlopen(sys.argv[1])\n",
        "    out_file = io.FileIO(\"saida.zip\", mode=\"w\")\n",
        "\n",
        "    content_length = response.getheader('Content-Length')\n",
        "    if content_length:\n",
        "        length = int(content_length)\n",
        "        download_length(response, out_file, length)\n",
        "    else:\n",
        "        download(response, out_file)\n",
        "        \n",
        "    response.close()\n",
        "    out_file.close()\n",
        "    print(\"Finished\")\n",
        "\n",
        "if __name__ == \"__main__\":\n",
        "        main()"
      ],
      "execution_count": null,
      "outputs": []
    }
  ]
}