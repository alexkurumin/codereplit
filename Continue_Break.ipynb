{
  "nbformat": 4,
  "nbformat_minor": 0,
  "metadata": {
    "colab": {
      "name": "Continue_Break",
      "provenance": [],
      "mount_file_id": "1pnJodJx0jE9dI-YJlxFe4nfyFUTwsiAQ",
      "authorship_tag": "ABX9TyPoganUk/Yaa8/VdpmSEdL9",
      "include_colab_link": true
    },
    "kernelspec": {
      "name": "python3",
      "display_name": "Python 3"
    },
    "language_info": {
      "name": "python"
    }
  },
  "cells": [
    {
      "cell_type": "markdown",
      "metadata": {
        "id": "view-in-github",
        "colab_type": "text"
      },
      "source": [
        "<a href=\"https://colab.research.google.com/github/alexkurumin/codereplit/blob/main/Continue_Break.ipynb\" target=\"_parent\"><img src=\"https://colab.research.google.com/assets/colab-badge.svg\" alt=\"Open In Colab\"/></a>"
      ]
    },
    {
      "cell_type": "code",
      "source": [
        "!pip install pandas\n",
        "!pip install numpy\n",
        "!pip install openpyxl"
      ],
      "metadata": {
        "colab": {
          "base_uri": "https://localhost:8080/"
        },
        "id": "YkLZX6LKWPAv",
        "outputId": "b6a87bb7-07ee-4b5b-a171-fbc8f3dd3118"
      },
      "execution_count": null,
      "outputs": [
        {
          "output_type": "stream",
          "name": "stdout",
          "text": [
            "Requirement already satisfied: pandas in /usr/local/lib/python3.7/dist-packages (1.1.5)\n",
            "Requirement already satisfied: pytz>=2017.2 in /usr/local/lib/python3.7/dist-packages (from pandas) (2018.9)\n",
            "Requirement already satisfied: numpy>=1.15.4 in /usr/local/lib/python3.7/dist-packages (from pandas) (1.19.5)\n",
            "Requirement already satisfied: python-dateutil>=2.7.3 in /usr/local/lib/python3.7/dist-packages (from pandas) (2.8.2)\n",
            "Requirement already satisfied: six>=1.5 in /usr/local/lib/python3.7/dist-packages (from python-dateutil>=2.7.3->pandas) (1.15.0)\n",
            "Requirement already satisfied: numpy in /usr/local/lib/python3.7/dist-packages (1.19.5)\n",
            "Requirement already satisfied: openpyxl in /usr/local/lib/python3.7/dist-packages (2.5.9)\n",
            "Requirement already satisfied: jdcal in /usr/local/lib/python3.7/dist-packages (from openpyxl) (1.4.1)\n",
            "Requirement already satisfied: et-xmlfile in /usr/local/lib/python3.7/dist-packages (from openpyxl) (1.1.0)\n"
          ]
        }
      ]
    },
    {
      "cell_type": "code",
      "execution_count": null,
      "metadata": {
        "colab": {
          "base_uri": "https://localhost:8080/",
          "height": 332
        },
        "id": "a2OFK885VnFh",
        "outputId": "5a24d4ce-29eb-4e59-9246-aedf434d06fc"
      },
      "outputs": [
        {
          "output_type": "display_data",
          "data": {
            "text/html": [
              "<div>\n",
              "<style scoped>\n",
              "    .dataframe tbody tr th:only-of-type {\n",
              "        vertical-align: middle;\n",
              "    }\n",
              "\n",
              "    .dataframe tbody tr th {\n",
              "        vertical-align: top;\n",
              "    }\n",
              "\n",
              "    .dataframe thead th {\n",
              "        text-align: right;\n",
              "    }\n",
              "</style>\n",
              "<table border=\"1\" class=\"dataframe\">\n",
              "  <thead>\n",
              "    <tr style=\"text-align: right;\">\n",
              "      <th></th>\n",
              "      <th>Vendedor</th>\n",
              "      <th>Vendas</th>\n",
              "      <th>Loja</th>\n",
              "      <th>Imposto</th>\n",
              "    </tr>\n",
              "  </thead>\n",
              "  <tbody>\n",
              "    <tr>\n",
              "      <th>0</th>\n",
              "      <td>Lira</td>\n",
              "      <td>3680</td>\n",
              "      <td>Rio</td>\n",
              "      <td>NaN</td>\n",
              "    </tr>\n",
              "    <tr>\n",
              "      <th>1</th>\n",
              "      <td>Julia</td>\n",
              "      <td>5301</td>\n",
              "      <td>Rio</td>\n",
              "      <td>NaN</td>\n",
              "    </tr>\n",
              "    <tr>\n",
              "      <th>2</th>\n",
              "      <td>Amanda</td>\n",
              "      <td>7378</td>\n",
              "      <td>Porto Alegre</td>\n",
              "      <td>NaN</td>\n",
              "    </tr>\n",
              "    <tr>\n",
              "      <th>3</th>\n",
              "      <td>Alessandra</td>\n",
              "      <td>6143</td>\n",
              "      <td>SP</td>\n",
              "      <td>NaN</td>\n",
              "    </tr>\n",
              "    <tr>\n",
              "      <th>4</th>\n",
              "      <td>Camila</td>\n",
              "      <td>4486</td>\n",
              "      <td>Rio</td>\n",
              "      <td>NaN</td>\n",
              "    </tr>\n",
              "    <tr>\n",
              "      <th>5</th>\n",
              "      <td>Marcus</td>\n",
              "      <td>6439</td>\n",
              "      <td>SP</td>\n",
              "      <td>NaN</td>\n",
              "    </tr>\n",
              "    <tr>\n",
              "      <th>6</th>\n",
              "      <td>Alon</td>\n",
              "      <td>5926</td>\n",
              "      <td>Rio</td>\n",
              "      <td>NaN</td>\n",
              "    </tr>\n",
              "    <tr>\n",
              "      <th>7</th>\n",
              "      <td>Candiotto</td>\n",
              "      <td>7176</td>\n",
              "      <td>SP</td>\n",
              "      <td>NaN</td>\n",
              "    </tr>\n",
              "    <tr>\n",
              "      <th>8</th>\n",
              "      <td>Pedro</td>\n",
              "      <td>1494</td>\n",
              "      <td>SP</td>\n",
              "      <td>NaN</td>\n",
              "    </tr>\n",
              "  </tbody>\n",
              "</table>\n",
              "</div>"
            ],
            "text/plain": [
              "     Vendedor  Vendas          Loja  Imposto\n",
              "0        Lira    3680           Rio      NaN\n",
              "1       Julia    5301           Rio      NaN\n",
              "2      Amanda    7378  Porto Alegre      NaN\n",
              "3  Alessandra    6143            SP      NaN\n",
              "4      Camila    4486           Rio      NaN\n",
              "5      Marcus    6439            SP      NaN\n",
              "6        Alon    5926           Rio      NaN\n",
              "7   Candiotto    7176            SP      NaN\n",
              "8       Pedro    1494            SP      NaN"
            ]
          },
          "metadata": {}
        }
      ],
      "source": [
        "import pandas as pd\n",
        "tabela = pd.read_excel('vendedores.xlsx')\n",
        "display(tabela)"
      ]
    },
    {
      "cell_type": "code",
      "source": [
        "faturamento = 0\n",
        "for venda in tabela['Vendas']:\n",
        "    faturamento += venda\n",
        "    if faturamento > 30000:\n",
        "        print(f'Faturamento batido: {faturamento}')\n",
        "        break\n"
      ],
      "metadata": {
        "colab": {
          "base_uri": "https://localhost:8080/"
        },
        "id": "R1UIq-ChWb46",
        "outputId": "ae7211e0-a1a1-4d3d-a003-3d238422259d"
      },
      "execution_count": null,
      "outputs": [
        {
          "output_type": "stream",
          "name": "stdout",
          "text": [
            "Faturamento batido: 33427\n"
          ]
        }
      ]
    },
    {
      "cell_type": "code",
      "source": [
        "for i, venda in enumerate(tabela['Vendas']):\n",
        "    cidade = tabela.loc[i, 'Loja']\n",
        "    if cidade == 'Porto Alegre':\n",
        "        continue\n",
        "    imposto = 0.1\n",
        "    valor_imposto = imposto * venda\n",
        "    tabela.loc[i, 'Imposto'] = valor_imposto\n",
        "display(tabela)\n"
      ],
      "metadata": {
        "colab": {
          "base_uri": "https://localhost:8080/",
          "height": 332
        },
        "id": "QQLXGlIuckyX",
        "outputId": "613e52d1-e8ed-4a00-b1c0-230557c174b7"
      },
      "execution_count": null,
      "outputs": [
        {
          "output_type": "display_data",
          "data": {
            "text/html": [
              "<div>\n",
              "<style scoped>\n",
              "    .dataframe tbody tr th:only-of-type {\n",
              "        vertical-align: middle;\n",
              "    }\n",
              "\n",
              "    .dataframe tbody tr th {\n",
              "        vertical-align: top;\n",
              "    }\n",
              "\n",
              "    .dataframe thead th {\n",
              "        text-align: right;\n",
              "    }\n",
              "</style>\n",
              "<table border=\"1\" class=\"dataframe\">\n",
              "  <thead>\n",
              "    <tr style=\"text-align: right;\">\n",
              "      <th></th>\n",
              "      <th>Vendedor</th>\n",
              "      <th>Vendas</th>\n",
              "      <th>Loja</th>\n",
              "      <th>Imposto</th>\n",
              "    </tr>\n",
              "  </thead>\n",
              "  <tbody>\n",
              "    <tr>\n",
              "      <th>0</th>\n",
              "      <td>Lira</td>\n",
              "      <td>3680</td>\n",
              "      <td>Rio</td>\n",
              "      <td>368.0</td>\n",
              "    </tr>\n",
              "    <tr>\n",
              "      <th>1</th>\n",
              "      <td>Julia</td>\n",
              "      <td>5301</td>\n",
              "      <td>Rio</td>\n",
              "      <td>530.1</td>\n",
              "    </tr>\n",
              "    <tr>\n",
              "      <th>2</th>\n",
              "      <td>Amanda</td>\n",
              "      <td>7378</td>\n",
              "      <td>Porto Alegre</td>\n",
              "      <td>NaN</td>\n",
              "    </tr>\n",
              "    <tr>\n",
              "      <th>3</th>\n",
              "      <td>Alessandra</td>\n",
              "      <td>6143</td>\n",
              "      <td>SP</td>\n",
              "      <td>614.3</td>\n",
              "    </tr>\n",
              "    <tr>\n",
              "      <th>4</th>\n",
              "      <td>Camila</td>\n",
              "      <td>4486</td>\n",
              "      <td>Rio</td>\n",
              "      <td>448.6</td>\n",
              "    </tr>\n",
              "    <tr>\n",
              "      <th>5</th>\n",
              "      <td>Marcus</td>\n",
              "      <td>6439</td>\n",
              "      <td>SP</td>\n",
              "      <td>643.9</td>\n",
              "    </tr>\n",
              "    <tr>\n",
              "      <th>6</th>\n",
              "      <td>Alon</td>\n",
              "      <td>5926</td>\n",
              "      <td>Rio</td>\n",
              "      <td>592.6</td>\n",
              "    </tr>\n",
              "    <tr>\n",
              "      <th>7</th>\n",
              "      <td>Candiotto</td>\n",
              "      <td>7176</td>\n",
              "      <td>SP</td>\n",
              "      <td>717.6</td>\n",
              "    </tr>\n",
              "    <tr>\n",
              "      <th>8</th>\n",
              "      <td>Pedro</td>\n",
              "      <td>1494</td>\n",
              "      <td>SP</td>\n",
              "      <td>149.4</td>\n",
              "    </tr>\n",
              "  </tbody>\n",
              "</table>\n",
              "</div>"
            ],
            "text/plain": [
              "     Vendedor  Vendas          Loja  Imposto\n",
              "0        Lira    3680           Rio    368.0\n",
              "1       Julia    5301           Rio    530.1\n",
              "2      Amanda    7378  Porto Alegre      NaN\n",
              "3  Alessandra    6143            SP    614.3\n",
              "4      Camila    4486           Rio    448.6\n",
              "5      Marcus    6439            SP    643.9\n",
              "6        Alon    5926           Rio    592.6\n",
              "7   Candiotto    7176            SP    717.6\n",
              "8       Pedro    1494            SP    149.4"
            ]
          },
          "metadata": {}
        }
      ]
    }
  ]
}