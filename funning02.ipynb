{
  "nbformat": 4,
  "nbformat_minor": 0,
  "metadata": {
    "colab": {
      "name": "funning02.ipynb",
      "provenance": [],
      "collapsed_sections": [],
      "authorship_tag": "ABX9TyOXh6J+xEyiYxqUIfB8dSyg",
      "include_colab_link": true
    },
    "kernelspec": {
      "name": "python3",
      "display_name": "Python 3"
    },
    "language_info": {
      "name": "python"
    }
  },
  "cells": [
    {
      "cell_type": "markdown",
      "metadata": {
        "id": "view-in-github",
        "colab_type": "text"
      },
      "source": [
        "<a href=\"https://colab.research.google.com/github/alexkurumin/codereplit/blob/main/funning02.ipynb\" target=\"_parent\"><img src=\"https://colab.research.google.com/assets/colab-badge.svg\" alt=\"Open In Colab\"/></a>"
      ]
    },
    {
      "cell_type": "code",
      "execution_count": null,
      "metadata": {
        "id": "YWasYHAwXEax"
      },
      "outputs": [],
      "source": [
        "!pip install qrcode"
      ]
    },
    {
      "cell_type": "code",
      "source": [
        "import qrcode\n",
        "imagem = qrcode.make(input('URL para gerar o qrcode: '))\n",
        "imagem.save('montese.png')\n",
        "print('''\n",
        "        Concluído.\n",
        "''')"
      ],
      "metadata": {
        "id": "lP_kjjOpXGwN"
      },
      "execution_count": null,
      "outputs": []
    }
  ]
}