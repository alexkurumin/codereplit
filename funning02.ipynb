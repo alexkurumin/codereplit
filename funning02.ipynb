{
  "nbformat": 4,
  "nbformat_minor": 0,
  "metadata": {
    "colab": {
      "name": "funning02.ipynb",
      "provenance": [],
      "collapsed_sections": [],
      "authorship_tag": "ABX9TyN+uFaTziPXTPUMsylqfM+6",
      "include_colab_link": true
    },
    "kernelspec": {
      "name": "python3",
      "display_name": "Python 3"
    },
    "language_info": {
      "name": "python"
    }
  },
  "cells": [
    {
      "cell_type": "markdown",
      "metadata": {
        "id": "view-in-github",
        "colab_type": "text"
      },
      "source": [
        "<a href=\"https://colab.research.google.com/github/alexkurumin/codereplit/blob/main/funning02.ipynb\" target=\"_parent\"><img src=\"https://colab.research.google.com/assets/colab-badge.svg\" alt=\"Open In Colab\"/></a>"
      ]
    },
    {
      "cell_type": "code",
      "execution_count": null,
      "metadata": {
        "id": "YWasYHAwXEax"
      },
      "outputs": [],
      "source": [
        "!pip install qrcode"
      ]
    },
    {
      "cell_type": "code",
      "source": [
        "import qrcode\n",
        "imagem = qrcode.make(input('URL para gerar o qrcode: '))\n",
        "imagem.save('montese.png')\n",
        "print('''\n",
        "        Concluído.\n",
        "''')"
      ],
      "metadata": {
        "id": "lP_kjjOpXGwN"
      },
      "execution_count": null,
      "outputs": []
    },
    {
      "cell_type": "code",
      "source": [
        "with open('hn.txt', 'r', encoding='utf-8') as file:\n",
        "    arquivo = file.read()    \n",
        "\n",
        "palavras = arquivo.split()\n",
        "for palavra in palavras:\n",
        "    if ',' in palavra or '!' in palavra:\n",
        "        print(f'Com: {palavra[:-1]}')\n",
        "    else:\n",
        "        print(f'\\tSem: {palavra}')\n",
        "localizar = palavras.count(input('Localizar: '))\n",
        "print(f'Encontarada {localizar} vezes')"
      ],
      "metadata": {
        "id": "VZAVxKywS8aI"
      },
      "execution_count": null,
      "outputs": []
    },
    {
      "cell_type": "code",
      "source": [
        "linhas = arquivo.split('\\n')\n",
        "for linha in linhas:\n",
        "    print(f'{linhas.index(linha)+1}) {linha}')"
      ],
      "metadata": {
        "id": "Ez0GVeKhekK_"
      },
      "execution_count": null,
      "outputs": []
    }
  ]
}