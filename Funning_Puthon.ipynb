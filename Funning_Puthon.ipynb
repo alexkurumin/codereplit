{
  "nbformat": 4,
  "nbformat_minor": 0,
  "metadata": {
    "colab": {
      "name": "Funning Puthon",
      "provenance": [],
      "collapsed_sections": [],
      "mount_file_id": "1q70SioDnxYDmRVDmFODqm00aR0XJjaZx",
      "authorship_tag": "ABX9TyN7uat7WPO3eDWY0Olssj6c",
      "include_colab_link": true
    },
    "kernelspec": {
      "display_name": "Python 3",
      "name": "python3"
    },
    "widgets": {
      "application/vnd.jupyter.widget-state+json": {
        "422f67b84c014c47adb8feb0e4645818": {
          "model_module": "@jupyter-widgets/output",
          "model_name": "OutputModel",
          "model_module_version": "1.0.0",
          "state": {
            "_view_name": "OutputView",
            "msg_id": "",
            "_dom_classes": [],
            "_model_name": "OutputModel",
            "outputs": [
              {
                "output_type": "display_data",
                "data": {
                  "text/html": "<pre style=\"white-space:pre;overflow-x:auto;line-height:normal;font-family:Menlo,'DejaVu Sans Mono',consolas,'Courier New',monospace\">Progrees bar... <span style=\"color: #729c1f; text-decoration-color: #729c1f\">━━━━━━━━━━━━━━━━━━━━━━━━━━━━━━━━━━━━━━━━</span> <span style=\"color: #800080; text-decoration-color: #800080\">100%</span> <span style=\"color: #008080; text-decoration-color: #008080\">0:00:00</span>\n</pre>\n",
                  "text/plain": "Progrees bar... \u001b[38;2;114;156;31m━━━━━━━━━━━━━━━━━━━━━━━━━━━━━━━━━━━━━━━━\u001b[0m \u001b[35m100%\u001b[0m \u001b[36m0:00:00\u001b[0m\n"
                },
                "metadata": {}
              }
            ],
            "_view_module": "@jupyter-widgets/output",
            "_model_module_version": "1.0.0",
            "_view_count": null,
            "_view_module_version": "1.0.0",
            "layout": "IPY_MODEL_eb684781e4be43469890707342a62815",
            "_model_module": "@jupyter-widgets/output"
          }
        },
        "eb684781e4be43469890707342a62815": {
          "model_module": "@jupyter-widgets/base",
          "model_name": "LayoutModel",
          "model_module_version": "1.2.0",
          "state": {
            "_view_name": "LayoutView",
            "grid_template_rows": null,
            "right": null,
            "justify_content": null,
            "_view_module": "@jupyter-widgets/base",
            "overflow": null,
            "_model_module_version": "1.2.0",
            "_view_count": null,
            "flex_flow": null,
            "width": null,
            "min_width": null,
            "border": null,
            "align_items": null,
            "bottom": null,
            "_model_module": "@jupyter-widgets/base",
            "top": null,
            "grid_column": null,
            "overflow_y": null,
            "overflow_x": null,
            "grid_auto_flow": null,
            "grid_area": null,
            "grid_template_columns": null,
            "flex": null,
            "_model_name": "LayoutModel",
            "justify_items": null,
            "grid_row": null,
            "max_height": null,
            "align_content": null,
            "visibility": null,
            "align_self": null,
            "height": null,
            "min_height": null,
            "padding": null,
            "grid_auto_rows": null,
            "grid_gap": null,
            "max_width": null,
            "order": null,
            "_view_module_version": "1.2.0",
            "grid_template_areas": null,
            "object_position": null,
            "object_fit": null,
            "grid_auto_columns": null,
            "margin": null,
            "display": null,
            "left": null
          }
        }
      }
    }
  },
  "cells": [
    {
      "cell_type": "markdown",
      "metadata": {
        "id": "view-in-github",
        "colab_type": "text"
      },
      "source": [
        "<a href=\"https://colab.research.google.com/github/alexkurumin/codereplit/blob/main/Funning_Puthon.ipynb\" target=\"_parent\"><img src=\"https://colab.research.google.com/assets/colab-badge.svg\" alt=\"Open In Colab\"/></a>"
      ]
    },
    {
      "cell_type": "markdown",
      "metadata": {
        "id": "DsWe1OL8rlg2"
      },
      "source": [
        "# Transferindo itens de um lista para outra"
      ]
    },
    {
      "cell_type": "code",
      "metadata": {
        "id": "wDKhjyPXLxv8"
      },
      "source": [
        "from time import sleep\n",
        "nConfs = ['1','2','3','4','5','6','7','8','9','10']\n",
        "confs = []\n",
        "while nConfs:\n",
        "    user = nConfs.pop()\n",
        "    sleep(1)\n",
        "    print(f'Verificando...{user.title()}')\n",
        "    confs.append(user)\n",
        "for conf in confs:\n",
        "    sleep(.05)\n",
        "    print(f'Confirmado......{conf.title()}')\n",
        "sleep(.05)\n",
        "print(f'\\nNão confirmados: {nConfs}')\n",
        "sleep(.05)\n",
        "print(f'\\nConfirmados: {confs}')"
      ],
      "execution_count": null,
      "outputs": []
    },
    {
      "cell_type": "markdown",
      "metadata": {
        "id": "BeJCjQW8NLXv"
      },
      "source": [
        "# Coleção \"Set\""
      ]
    },
    {
      "cell_type": "code",
      "metadata": {
        "id": "kLQqmKnefzP9"
      },
      "source": [
        "print('# Criando um set')\n",
        "frutas = {'Maçã','Laranja','Abacaxi','Maçã'}\n",
        "print(f'Lista: {frutas}')\n",
        "print('# Adicionando um item ao set')\n",
        "frutas.add('Banana')\n",
        "print(frutas)\n",
        "print('# Removemdo um item ao set')\n",
        "frutas.remove('Laranja')\n",
        "print(frutas)\n",
        "print('# Removemdo o último ítem')\n",
        "frutas.pop()\n",
        "print(frutas)\n",
        "for f in frutas:\n",
        "    print(f)"
      ],
      "execution_count": null,
      "outputs": []
    },
    {
      "cell_type": "code",
      "metadata": {
        "id": "KUWpxV_Vf72c"
      },
      "source": [
        "newset = {'Brasil', 'Japão', 'Argentina', 52, 43, 8, 21, True, False, True, False}\n",
        "print(newset)"
      ],
      "execution_count": null,
      "outputs": []
    },
    {
      "cell_type": "code",
      "metadata": {
        "id": "ZF6ENuYFizkQ"
      },
      "source": [
        "# Dicionário\n",
        "# Não exibe os duplicados\n",
        "from time import sleep\n",
        "\n",
        "meses = {\n",
        "    'Jan':'Começando o ano',\n",
        "    'Fev':'Éca, Carnaval',\n",
        "    'Mar':'Sei lá',\n",
        "    'Abr':'Nasceo Brasil',\n",
        "    'Mai':'Mães',\n",
        "    'Jun':'Quase no meio',\n",
        "    'Jul':'Férias da mulecada',\n",
        "    'Ago':'de Desu',\n",
        "    'Set':'Independência',\n",
        "    'Out':'Crianças',\n",
        "    'Nov':'Proclamação',\n",
        "    'Dez':'Natal',\n",
        "    'Jun':'Quase no meio',\n",
        "    'Jul':'Férias da mulecada',\n",
        "    'Ago':'de Deus',\n",
        "    'Set':'Independência',\n",
        "    'Out':'Crianças',\n",
        "    'Nov':'Proclamação',\n",
        "    'Dez':'Natal'\n",
        "}\n",
        "print(meses.get('Qua','Mes Inexistente\\n'))\n",
        "\n",
        "for chave, valor in meses.items():\n",
        "    sleep(.5)\n",
        "    print('O Item: ', chave, 'e o valor: ', valor)"
      ],
      "execution_count": null,
      "outputs": []
    },
    {
      "cell_type": "code",
      "metadata": {
        "id": "toHulMTDkzYG"
      },
      "source": [
        "# Dicionaário\n",
        "\n",
        "newDic = {\n",
        "    'Nome':'Alexander',\n",
        "    'Idade':52,\n",
        "    'Função':'Auxiliar de Segurança',\n",
        "}\n",
        "for key, value in newDic.items():\n",
        "  print(key,':', value)\n",
        "print()\n",
        "print(newDic['Nome'])\n",
        "print(newDic)\n",
        "newDic['Linguagem'] = 'Python'\n",
        "for key, value in newDic.items():\n",
        "  print(f'Chave: {key} - Valor: {value}')\n",
        "print()\n",
        "print('\\tSó chaves: ', newDic.keys())\n",
        "print('\\tSó valores: ', newDic.values())\n",
        "print()\n",
        "print('Tudo', newDic.items())"
      ],
      "execution_count": null,
      "outputs": []
    },
    {
      "cell_type": "code",
      "metadata": {
        "id": "MCHrZZNkTNeA"
      },
      "source": [
        "import pandas as pd\n",
        "lista = ['abacaxi','banana','melancia','maçã','pêssego','morango','carambola','lichia']\n",
        "# print(lista)\n",
        "lista_indice = ['ab','ba','me','ma','pe','mo','ca','li']\n",
        "serie = pd.Series(lista,index=lista_indice,name='frutas')\n",
        "# print(lista_indice)\n",
        "print(serie)\n",
        "# print(serie.str.title())\n",
        "# serie[2]\n",
        "# print(type(serie))\n",
        "print('Número de frutas: ', serie.count())"
      ],
      "execution_count": null,
      "outputs": []
    },
    {
      "cell_type": "code",
      "metadata": {
        "id": "3-a7aGtITk7U"
      },
      "source": [
        "pd.Series(32.65, range(10))"
      ],
      "execution_count": null,
      "outputs": []
    },
    {
      "cell_type": "code",
      "metadata": {
        "id": "EYV-JgvhWsbc"
      },
      "source": [
        "aleat_Num = pd.Series([23.55, 34.11, 56.52, 98.12, 632.345, 12.567])\n",
        "aleat_Num.mean()\n",
        "aleat_Num.max()\n",
        "aleat_Num.min()\n",
        "aleat_Num.std()\n",
        "aleat_Num.describe()\n",
        "\n",
        "for num in aleat_Num:\n",
        "    print(f'Número: {num}\\t\\tNúmero x 2: {num*2}')"
      ],
      "execution_count": null,
      "outputs": []
    },
    {
      "cell_type": "code",
      "metadata": {
        "id": "L3rp7hiDJ3gm"
      },
      "source": [
        "print('#'*35)\n",
        "print('{:^35}'.format('Python - Curso em Vídeo'))\n",
        "print('{:^35}'.format('Lista só com inteiros'))\n",
        "print('#'*35)\n",
        "print()\n",
        "\n",
        "lista = []\n",
        "while len(lista) < 5:\n",
        "    num = input('Número: ')\n",
        "    if num.isdigit() == True:\n",
        "        newNum = int(num)\n",
        "        lista.append(newNum)\n",
        "    else:\n",
        "        print('Só inteiros')        \n",
        "print(f'\\tMaior: {max(lista)}')\n",
        "print(f'\\tMenor: {min(lista)}')\n"
      ],
      "execution_count": null,
      "outputs": []
    },
    {
      "cell_type": "markdown",
      "metadata": {
        "id": "KVK4uG2ZtNw_"
      },
      "source": [
        "<h1>Python - Como Pegar Cotações de Ações com Python</h1>"
      ]
    },
    {
      "cell_type": "code",
      "metadata": {
        "id": "24Woy8tqtcp3"
      },
      "source": [
        "!pip install pandas_datareader\n",
        "\n",
        "from pandas_datareader import data as web\n",
        "import pandas as pd\n",
        "import matplotlib.pyplot as plt\n",
        "\n",
        "cotacao_bovespa = web.DataReader('^BVSP', data_source='yahoo', start = '01/01/2020', end = '01/01/2021')\n",
        "#display(cotacao_bovespa)\n",
        "cotacao_bovespa['Adj Close'].plot()\n",
        "plt.show()\n",
        "\n",
        "cotacao_petrobras = web.DataReader('PETR4.SA', data_source='yahoo', start = '01/01/2020', end = '01/01/2021')\n",
        "#display(cotacao_bovespa)\n",
        "cotacao_petrobras['Adj Close'].plot()\n",
        "#cotacao_bovespa['Adj Close'].plot(figsize=(15, 10))\n",
        "plt.show()"
      ],
      "execution_count": null,
      "outputs": []
    },
    {
      "cell_type": "code",
      "metadata": {
        "colab": {
          "background_save": true
        },
        "id": "57p4fnnlxKwc"
      },
      "source": [
        "import pandas as pd\n",
        "tabela_empresas = pd.read_excel('/content/drive/MyDrive/Colab Notebooks/Empresas.xlsx')\n",
        "display(tabela_empresas)\n",
        "for empresa in tabela_empresas['Empresas']:\n",
        "    print('#'*100)\n",
        "    print('{:^100}'.format(empresa))\n",
        "    print('#'*100)\n",
        "    cotacao = web.DataReader(f'{empresa}.SA', data_source='yahoo', start = '01/01/2020', end = '01/01/2021')\n",
        "    cotacao['Adj Close'].plot(figsize = (15, 10))\n",
        "    plt.show()"
      ],
      "execution_count": null,
      "outputs": []
    },
    {
      "cell_type": "markdown",
      "metadata": {
        "id": "gkbFzEWh_yFH"
      },
      "source": [
        "<h1>CONVERSOR DE MEDIDAS</h1>"
      ]
    },
    {
      "cell_type": "markdown",
      "metadata": {
        "id": "H3OmqjaP_6aT"
      },
      "source": [
        "- Apresentação:\n",
        "- Campo do valor para nserir o valor a ser convertido, informando detalhes de como deve ser o formato desse valor\n",
        "- Campo da opção\n",
        "- Apresentar as opções de conversões\n",
        "- Mostrar o resultado\n",
        "- Perguntar se quer continuar ou sair"
      ]
    },
    {
      "cell_type": "markdown",
      "metadata": {
        "id": "jwGzFHY2P4Zt"
      },
      "source": [
        "# CONVERSOR DE MEDIDAS"
      ]
    },
    {
      "cell_type": "code",
      "metadata": {
        "id": "8_qc_W54hKIV"
      },
      "source": [
        "listaA = ['Alex',53,'auxiliadora',43,'gabriela','22','sofia',8]\n",
        "listaB = listaA[:]\n",
        "listaA.append('Novo')\n",
        "listaB.append('Olá Mundo')\n",
        "print(listaA)\n",
        "print(listaB)"
      ],
      "execution_count": null,
      "outputs": []
    },
    {
      "cell_type": "code",
      "metadata": {
        "id": "fTrK6hRFimUe"
      },
      "source": [
        "from time import sleep\n",
        "x = [i for i in range(0, 25) if i % 2 == 0]\n",
        "for n in x:\n",
        "    sleep(.15)\n",
        "    print(n)"
      ],
      "execution_count": null,
      "outputs": []
    },
    {
      "cell_type": "code",
      "metadata": {
        "id": "W-EqCPmAxvnh"
      },
      "source": [
        "lista = []\n",
        "for n in range(1, 11):\n",
        "    lista.append(n)\n",
        "    n += 1\n",
        "for num in lista:\n",
        "    print(f'Nr: {num}')"
      ],
      "execution_count": null,
      "outputs": []
    },
    {
      "cell_type": "markdown",
      "metadata": {
        "id": "j19tcPgkPvhO"
      },
      "source": [
        "# Cálculo do Índice de Massa Corporal"
      ]
    },
    {
      "cell_type": "code",
      "metadata": {
        "colab": {
          "background_save": true
        },
        "id": "uBL3bzK_IWLC"
      },
      "source": [
        "!pip install tdqm\n",
        "from tqdm import  tqdm\n",
        "from time import sleep\n",
        "# IMC\n",
        "from time import sleep\n",
        "print()\n",
        "print('#'*40)\n",
        "print('{:^40}'.format('Cálculo do Índice de Massa Corporal'))\n",
        "print('#'*40)\n",
        "print()\n",
        "continuar = ' '\n",
        "nome = ' '\n",
        "idade = 0\n",
        "while continuar != 'N':\n",
        "    nome = input('\\tNome: ').capitalize()\n",
        "    if nome.isdigit() == True:\n",
        "        continue\n",
        "    else:\n",
        "        print('Dado incorreto') \n",
        "    idade = int(input('\\tIdade: '))\n",
        "    if idade.isdigit() == False:\n",
        "        continue\n",
        "    else:\n",
        "        print('Dado incorreto')\n",
        "    peso = float(input('\\tPeso [Ex: 81.1]: '))\n",
        "    if peso.isdigit() == True:\n",
        "        continue\n",
        "    else:\n",
        "        print('Dado incorreto')\n",
        "    altura = float(input('\\tAltura [Ex: 1.77]: '))\n",
        "    if altura.isdigit() == True:\n",
        "        continue\n",
        "    else:\n",
        "        print('Dado incorreto')\n",
        "    imc = peso/(altura*altura)\n",
        "    for i in tqdm(range(1)):\n",
        "        sleep(1)\n",
        "    print(f'\\nOĺá {nome}.\\n\\nO seu IMC é: {round (imc, 2)} e você está ')\n",
        "    if continuar == 'N':\n",
        "        print(f'\\n\\tObrigado {nome} por poder ajudar.')\n",
        "        break\n",
        "    if imc < 17:\n",
        "        print('Muito abaixo do peso')\n",
        "    elif imc >= 17 and imc <= 18.49:\n",
        "        print('Abaixo do peso')\n",
        "    elif imc >= 18.5 and imc <= 24.99:\n",
        "        print('com Peso normal')\n",
        "    elif imc >= 25 and imc <= 29.99:\n",
        "        print('Acima do peso')\n",
        "    elif imc >= 30 and imc <= 34.99:\n",
        "        print('com Obesidade I')\n",
        "    elif imc >= 35 and imc <= 39.99:\n",
        "        print('com Obesidade II (Severa)')\n",
        "    elif imc >= 40:\n",
        "        print('com Obesidade III (Mórbida)')\n",
        "    continuar = str(input('\\nContinuar [S / N]? ')).strip().upper()    \n",
        "print('\\nF I M\\n')"
      ],
      "execution_count": null,
      "outputs": []
    },
    {
      "cell_type": "markdown",
      "metadata": {
        "id": "DXYoQ-h3oID6"
      },
      "source": [
        "#Intervalo de Tempo"
      ]
    },
    {
      "cell_type": "code",
      "metadata": {
        "colab": {
          "background_save": true
        },
        "id": "8x_hOpxoRzuy"
      },
      "source": [
        "import datetime\n",
        "date_from = datetime.date(1987, 8, 1)\n",
        "date_to = datetime.date(2021, 6, 7)\n",
        "\n",
        "diff = date_to - date_from\n",
        "print(diff)\n",
        "\n",
        "days = diff.days\n",
        "print(days)\n",
        "\n",
        "print(f'\\n{anos} Anos, {meses} Meses e {resto_Meses} Dias')"
      ],
      "execution_count": null,
      "outputs": []
    },
    {
      "cell_type": "markdown",
      "metadata": {
        "id": "HzGSD_4xoCdk"
      },
      "source": [
        "#Intervalo de Tempo"
      ]
    },
    {
      "cell_type": "code",
      "metadata": {
        "colab": {
          "background_save": true
        },
        "id": "ybzNuz7jRVqF"
      },
      "source": [
        "import datetime\n",
        "\n",
        "d1 = datetime.datetime(1987, 8, 1)\n",
        "d2 = datetime.datetime(2021, 6, 1)\n",
        "\n",
        "diff = d2 - d1\n",
        "\n",
        "days = diff.days\n",
        "years, days = days // 365, days % 365\n",
        "months, days = days // 30, days % 30\n",
        "\n",
        "seconds = diff.seconds\n",
        "hours, seconds = seconds // 3600, seconds % 3600\n",
        "minutes, seconds = seconds // 60, seconds % 60\n",
        "\n",
        "print(f'Desde: {d1} passaram \\n => {years} anos, {months} meses, {days} dias')"
      ],
      "execution_count": null,
      "outputs": []
    },
    {
      "cell_type": "markdown",
      "metadata": {
        "id": "Oa-u9BdfRA2S"
      },
      "source": [
        "# To Do"
      ]
    },
    {
      "cell_type": "code",
      "metadata": {
        "id": "2_xZBeRdhfEb"
      },
      "source": [
        "print()\n",
        "lista_De_Tarefas = []\n",
        "tarefa = []\n",
        "continuar = ''\n",
        "while continuar in 'sS':\n",
        "    tarefa.append(str(input('Tarefa: ')).capitalize())\n",
        "    tarefa.append(str(input('Data: ')))\n",
        "    tarefa.append(str(input('Horário: ')))\n",
        "    lista_De_Tarefas.append(tarefa[:])\n",
        "    tarefa.clear()        \n",
        "    continuar = str(input('\\nContinuar [s/n]: ')).strip().upper()\n",
        "    if continuar in 'nN':\n",
        "        print('*'*45)\n",
        "        print('{:^45}'.format('Tarefas adicionadas com sucesso.'))\n",
        "        print('*'*45)\n",
        "        break\n",
        "for t in lista_De_Tarefas:\n",
        "    print('*'*15)\n",
        "    print(f'Tarefa: {t[0]}')\n",
        "    print(f'Data: {t[1]}')\n",
        "    print(f'Horário: {t[2]}')"
      ],
      "execution_count": null,
      "outputs": []
    },
    {
      "cell_type": "markdown",
      "metadata": {
        "id": "V0gn2JvXQ7Tj"
      },
      "source": [
        "\n",
        "\n",
        "# Tabuadas"
      ]
    },
    {
      "cell_type": "code",
      "metadata": {
        "colab": {
          "background_save": true
        },
        "id": "yWzT3v2HKORc"
      },
      "source": [
        "a = int(input('Digite em número: '))\n",
        "b = int(input('Digite um número: '))\n",
        "print()\n",
        "if a > b:\n",
        "    print('Sem intervalo.')\n",
        "else:\n",
        "    for m in range(a, b + 1):\n",
        "        for M in range(0, 11):\n",
        "            print(f'{m} x {M} = {m*M}')\n",
        "        print('{:^35}'.format('-'*35))"
      ],
      "execution_count": null,
      "outputs": []
    },
    {
      "cell_type": "code",
      "metadata": {
        "id": "qBY0ayM2DnnC"
      },
      "source": [
        "import copy\n",
        "funcoes = ['Ch Sec Tec','Ch SALC','Ch Sec Fin']\n",
        "copiafuncoes = copy.copy(funcoes)\n",
        "copiafuncoes[1] = 'Ch Sec Pes'\n",
        "print(funcoes)\n",
        "print(copiafuncoes)\n",
        "from time import sleep\n",
        "span = 0\n",
        "while span <= 15:\n",
        "    print(f'{span} - Olá MUndo!!!')\n",
        "    sleep(.25)\n",
        "    span += 1\n",
        "print('\\n\\tF I M')"
      ],
      "execution_count": null,
      "outputs": []
    },
    {
      "cell_type": "code",
      "metadata": {
        "id": "1RsgBmErkLTd"
      },
      "source": [
        "relacao = ('1968',)\n",
        "print(type(relacao))"
      ],
      "execution_count": null,
      "outputs": []
    },
    {
      "cell_type": "code",
      "metadata": {
        "id": "LpoqvjuCSHwB"
      },
      "source": [
        "'''nome = 'Alexander'\n",
        "print((nome[::-1].upper()))\n",
        "print(f'Tamanho: {len(nome)}')\n",
        "for l in nome:\n",
        "    print(l.upper(), end = ' ')\n",
        "print()\n",
        "print(nome[0:4], 'é o apelido.')\n",
        "print(nome*3)\n",
        "print(nome[1:2]*3)\n",
        "nome_completo ='Alexander Xavier Moreira'\n",
        "nome_completo = nome_completo.replace('Xavier','Moreira')\n",
        "print(nome_completo)\n",
        "print(nome_completo.count('e'))\n",
        "print(nome_completo.split(' '))\n",
        "print()\n",
        "print('{:#^50}'.format(''))\n",
        "print('{:^50}'.format(nome_completo.upper()))\n",
        "print('{:#^50}'.format(''))\n",
        "print()'''\n",
        "\n",
        "imposto = input('Imposto: ')\n",
        "salario = int(input('Salário: '))\n",
        "if imposto == '':\n",
        "    imposto = 27.5\n",
        "else:\n",
        "    imposto = float(imposto)\n",
        "print('Valor real: {}'.format(salario-(salario*(imposto*0.01))))"
      ],
      "execution_count": null,
      "outputs": []
    },
    {
      "cell_type": "code",
      "metadata": {
        "colab": {
          "background_save": true
        },
        "id": "cuZZ_pfYaLcQ"
      },
      "source": [
        "# !pip install pandas\n",
        "import pandas as pd\n",
        "tabela_montese = pd.read_excel('/content/drive/MyDrive/Colab Notebooks/montese.xlsx')\n",
        "display(tabela_montese) # Mostrar toda tabela\n",
        "# tabela_montese.head(10) # Exibir número específico de registros\n",
        "# print(tabela_montese.shape) # Exibie número de linhas e colunas\n",
        "'''pg = tabela_montese[['Posto/Grad','Nome']]\n",
        "display(pg) Pegar uma ou mais colunas'''\n",
        "'''pgst = tabela_montese.loc[tabela_montese['Posto/Grad'] == 'S Ten Eng']\n",
        "display(pgst)'''\n",
        "'''pgqao = tabela_montese.loc[tabela_montese['Posto/Grad'] == 'Cap QAO-Adm G']\n",
        "display(pgqao)'''"
      ],
      "execution_count": null,
      "outputs": []
    },
    {
      "cell_type": "markdown",
      "metadata": {
        "id": "fRNgK0SMXiN9"
      },
      "source": [
        "# SORTEIO ELETRÔNICO DOS HORÁRIOS DA RONDA"
      ]
    },
    {
      "cell_type": "markdown",
      "metadata": {
        "id": "LsFYVldzyiqc"
      },
      "source": [
        "# Cópia de arquivo"
      ]
    },
    {
      "cell_type": "code",
      "metadata": {
        "colab": {
          "background_save": true
        },
        "id": "-kekc3z9Lv4R"
      },
      "source": [
        "import shutil\n",
        "source=r'/content/drive/MyDrive/text001.txt'\n",
        "destination=r'/content/drive/MyDrive/text003.txt'\n",
        "shutil.copyfile(source, destination)"
      ],
      "execution_count": null,
      "outputs": []
    },
    {
      "cell_type": "markdown",
      "metadata": {
        "id": "tFXgNDDfN3nu"
      },
      "source": [
        "# Contagem de caracteres, inclusive os espaços"
      ]
    },
    {
      "cell_type": "code",
      "metadata": {
        "colab": {
          "background_save": true
        },
        "id": "jL4wJn_GNjli"
      },
      "source": [
        "from time import sleep\n",
        "mensagem = 'Se for mistér partir um dia para a guerra'\n",
        "contador = {}\n",
        "for letra in mensagem:\n",
        "    contador.setdefault(letra, 0)\n",
        "    contador[letra] = contador[letra] + 1\n",
        "for k, v in contador.items():\n",
        "    sleep(.5)\n",
        "    print(f'Caractere: {k} - Quantidade: {v}')"
      ],
      "execution_count": null,
      "outputs": []
    },
    {
      "cell_type": "markdown",
      "metadata": {
        "id": "F58EBd_qtL5y"
      },
      "source": [
        "# Jogo da Velha"
      ]
    },
    {
      "cell_type": "code",
      "metadata": {
        "colab": {
          "background_save": true
        },
        "id": "cZJYk14EpQSu"
      },
      "source": [
        "theBoard = {'top-L': ' ', 'top-M': ' ', 'top-R': ' ','mid-L': ' ', 'mid-M': ' ', 'mid-R': ' ','low-L': ' ', 'low-M': ' ', 'low-R': ' '}\n",
        "def printBoard(board):\n",
        "    print(board['top-L'] + '|' + board['top-M'] + '|' + board['top-R'])\n",
        "    print('-+-+-')\n",
        "    print(board['mid-L'] + '|' + board['mid-M'] + '|' + board['mid-R'])\n",
        "    print('-+-+-')\n",
        "    print(board['low-L'] + '|' + board['low-M'] + '|' + board['low-R'])\n",
        "printBoard(theBoard)"
      ],
      "execution_count": null,
      "outputs": []
    },
    {
      "cell_type": "code",
      "metadata": {
        "colab": {
          "background_save": true
        },
        "id": "SfTsTTRNw3to"
      },
      "source": [
        "import calendar\n",
        "cal = calendar.TextCalendar(calendar.SUNDAY).formatyear(int(input('Ano: ')))\n",
        "print(f'\\033[31m{cal}\\033[m')"
      ],
      "execution_count": null,
      "outputs": []
    },
    {
      "cell_type": "code",
      "metadata": {
        "colab": {
          "background_save": true
        },
        "id": "n7kpjO2OutQE"
      },
      "source": [
        "import matplotlib.pyplot as plt\n",
        "Partition = 'Oficiais', 'ST/Sgt', 'Cabos', 'Soldados'\n",
        "sizes = [int(input('Oficiais: ')), int(input('ST/Sgt: ')), int(input('Cabo: ')), int(input('Soldados: '))]\n",
        "fig1, ax1 = plt.subplots()\n",
        "ax1.pie(sizes, labels=Partition, autopct='%1.1f%%', shadow=True, startangle=90)         \n",
        "ax1.axis('equal')\n",
        "plt.show()"
      ],
      "execution_count": null,
      "outputs": []
    },
    {
      "cell_type": "code",
      "metadata": {
        "colab": {
          "background_save": true
        },
        "id": "aLdbeApSIhxk"
      },
      "source": [
        "res = [i for i in range(int(input('Range: '))) if i % 2 == 0]\n",
        "print(res)"
      ],
      "execution_count": null,
      "outputs": []
    },
    {
      "cell_type": "code",
      "metadata": {
        "colab": {
          "background_save": true
        },
        "id": "M72-RrfsYCcW"
      },
      "source": [
        "def find(word, letter):\n",
        "    index = 0\n",
        "    while index < len(word):\n",
        "        if word[index] == letter:\n",
        "            return index\n",
        "        index = index + 1\n",
        "    return-1\n",
        "palavra = str(input('Palavra: '))\n",
        "letra = str(input('Letra: '))\n",
        "find(palavra,letra)"
      ],
      "execution_count": null,
      "outputs": []
    },
    {
      "cell_type": "markdown",
      "metadata": {
        "id": "pkFpRHd4cjCe"
      },
      "source": [
        "# Fatorial"
      ]
    },
    {
      "cell_type": "code",
      "metadata": {
        "colab": {
          "background_save": true
        },
        "id": "fZKZkxwxhEo2"
      },
      "source": [
        "numero = int(input('Fatorial de: '))\n",
        "fatorial = 1\n",
        "for n in range(1,numero+1):\n",
        "    fatorial *= n\n",
        "print(f'Fatorial de {numero} é {fatorial}.')"
      ],
      "execution_count": null,
      "outputs": []
    },
    {
      "cell_type": "markdown",
      "metadata": {
        "id": "xl-1QQ5wO93j"
      },
      "source": [
        "# Diferença entre Datas"
      ]
    },
    {
      "cell_type": "code",
      "metadata": {
        "colab": {
          "background_save": true
        },
        "id": "zpEeCTTVPCQi"
      },
      "source": [
        "from datetime import datetime\n",
        "from dateutil import relativedelta\n",
        "\n",
        "date1 = datetime(int(input('Ano - Data Inicial: ')), int(input('Mês - Data Inicial: ')), int(input('Dia - Data Inicial: ')))\n",
        "date2 = datetime(int(input('Ano - Data Final: ')), int(input('Mês - Data Final: ')), int(input('Dia - Data Final: ')))\n",
        "\n",
        "diff = relativedelta.relativedelta(date2, date1)\n",
        "\n",
        "years = diff.years\n",
        "months = diff.months\n",
        "days = diff.days\n",
        "\n",
        "print('{} years {} months {} days'.format(years, months, days))"
      ],
      "execution_count": null,
      "outputs": []
    },
    {
      "cell_type": "markdown",
      "metadata": {
        "id": "3G1GcO9BznLu"
      },
      "source": [
        "## Classes Python"
      ]
    },
    {
      "cell_type": "code",
      "metadata": {
        "colab": {
          "background_save": true
        },
        "id": "zLqDrmLXfZlU"
      },
      "source": [
        "class Cachorro():\n",
        "    '''Tentativa simples de modelar um cachorro'''\n",
        "    def __init__(self, nome, idade):\n",
        "        '''Método construtor. Inicializa os atributos nome e idade'''\n",
        "        self.nome = nome\n",
        "        self.idade = idade\n",
        "    def sentar(self):\n",
        "        '''Simula um cachorro sentando em resposta a um comando'''\n",
        "        print(f'{self.nome.title()} está sentando')\n",
        "    def rolar(self):\n",
        "        '''Simula um cachorro rolando em resposta a um comando'''\n",
        "        print(f'{self.nome.title()} está rolando')\n",
        "    def dados(self):\n",
        "        print(f'Nome do Cachorro: {self.nome.title()}, Idade do Cachorro: {self.idade}')\n",
        "\n",
        "meu_cachorro = Cachorro('Aquiles', 6)\n",
        "meu_cachorro.dados()\n",
        "meu_cachorro.rolar()\n",
        "meu_cachorro.sentar()\n",
        "\n",
        "outro_cachorro = Cachorro('Bingo', 10)\n",
        "outro_cachorro.rolar()\n",
        "outro_cachorro.sentar()"
      ],
      "execution_count": null,
      "outputs": []
    },
    {
      "cell_type": "markdown",
      "metadata": {
        "id": "6CLPjq9_i8-O"
      },
      "source": [
        "## Web Scraping"
      ]
    },
    {
      "cell_type": "code",
      "metadata": {
        "id": "m-zY6xJwliix"
      },
      "source": [
        "# import requests\n",
        "# from bs4 import BeautifulSoup\n",
        "\n",
        "# url = 'https://governodigital.net/index.html'\n",
        "# req = requests.get(url)\n",
        "# print(req.content)"
      ],
      "execution_count": null,
      "outputs": []
    },
    {
      "cell_type": "markdown",
      "metadata": {
        "id": "A0Rj2wh4gs3W"
      },
      "source": [
        "# [Projetos com TKinter](https://levelup.gitconnected.com/10-interesting-python-tkinter-programs-with-code-df52174993e1)"
      ]
    },
    {
      "cell_type": "markdown",
      "metadata": {
        "id": "1Pc752cUeboW"
      },
      "source": [
        "## Projetos com TKinter - TODO"
      ]
    },
    {
      "cell_type": "code",
      "metadata": {
        "id": "Sr2GCCxdejWH"
      },
      "source": [
        "from tkinter import *\n",
        "window = Tk()\n",
        "\n",
        "label= Label(window,text = \"TO-DO-LIST\")\n",
        "label.pack()\n",
        "\n",
        "list = Listbox(window,bg = 'yellow')\n",
        "list.insert(1,'Clean your stuff')\n",
        "list.insert(2,'Create a Tkinter program')\n",
        "list.insert(3,'Finish application')\n",
        "list.insert(4,'Get a Refill')\n",
        "list.pack()\n",
        "\n",
        "window.config(bg='black')\n",
        "window.geometry(\"300x300\")\n",
        "window.title('LIST')\n",
        "window.mainloop()                                                                                  "
      ],
      "execution_count": null,
      "outputs": []
    },
    {
      "cell_type": "markdown",
      "metadata": {
        "id": "hmJUkz_3fnB-"
      },
      "source": [
        "## Projetos com TKinter - Relógio"
      ]
    },
    {
      "cell_type": "code",
      "metadata": {
        "colab": {
          "background_save": true
        },
        "id": "bxSRuGaHfolv"
      },
      "source": [
        "from tkinter import *\n",
        "import time\n",
        "\n",
        "root = TK()\n",
        "root.geometry(\"400x100\")\n",
        "root.config(bg='black')\n",
        "\n",
        "def update():\n",
        "    clock.config(text=time.strftime(\"%I:%M:%S\"))\n",
        "    clock.after(1000,update)\n",
        "\n",
        "\n",
        "clock = Label(root, background = 'black',foreground = 'white', font = ('arial', 40, 'bold'))\n",
        "clock.pack()\n",
        "update()\n",
        "root.title('clock')\n",
        "root.mainloop()"
      ],
      "execution_count": null,
      "outputs": []
    },
    {
      "cell_type": "markdown",
      "metadata": {
        "id": "PumeSWHdvhdj"
      },
      "source": [
        "## Projeto Tkinter - To Do List"
      ]
    },
    {
      "cell_type": "code",
      "metadata": {
        "id": "zwIOnOzZk9bh"
      },
      "source": [
        "!pip install tk\n",
        "from tkinter import *\n",
        "import tkinter.messagebox\n",
        "import pickle\n",
        "\n",
        "app = Tk()\n",
        "app.title('Lista de Tarefas by @alex_xavier_moreira')\n",
        "\n",
        "# Funções\n",
        "\n",
        "def add_task():\n",
        "\ttask = entry_task.get()\n",
        "\tif task != \"\":\n",
        "\t\tlistbox_tasks.insert(tkinter.END, task)\n",
        "\t\tentry_task.delete(0, tkinter.END)\n",
        "\telse:\n",
        "\t\ttkinter.messagebox.showwarning(title = 'Aviso!', message = 'Você precisa adicionar uma tarefa.')\n",
        "def delete_task():\n",
        "\ttry:\n",
        "\t\ttask_index = listbox_tasks.curselection()[0]\n",
        "\t\tlistbox_tasks.delete(task_index)\n",
        "\texcept:\n",
        "\t\ttkinter.messagebox.showwarning(title = 'Aviso!', message = 'Você precisa selecionar uma tarefa.')\n",
        "def load_tasks():\n",
        "\ttry:\n",
        "\t\ttasks = pickle.load(open('tasks.dat', 'rb'))\n",
        "\t\tlistbox_tasks.delete(0, tkinter.END)\n",
        "\t\tfor task in tasks:\n",
        "\t\t\tlistbox_tasks.insert(tkinter.END, task)\n",
        "\texcept:\n",
        "\t\ttkinter.messagebox.showwarning(title = 'Aviso!', message = 'Não há lista de tarefa.')\n",
        "\n",
        "def save_tasks():\n",
        "\ttasks = listbox_tasks.get(0, listbox_tasks.size())\t\n",
        "\tpickle.dump(tasks, open('tasks.dat', 'wb'))\n",
        "\n",
        "# Criando a Interface\n",
        "\n",
        "frame_tasks = tkinter.Frame(app)\n",
        "frame_tasks.pack()\n",
        "\n",
        "listbox_tasks = tkinter.Listbox(frame_tasks, height=10, width=50)\n",
        "listbox_tasks.pack(side = tkinter.LEFT)\n",
        "\n",
        "scrollbar_tasks = tkinter.Scrollbar(frame_tasks)\n",
        "scrollbar_tasks.pack(side = tkinter.RIGHT, fill = tkinter.Y)\n",
        "\n",
        "listbox_tasks.config(yscrollcommand = scrollbar_tasks.set)\n",
        "scrollbar_tasks.config(command = listbox_tasks.yview)\n",
        "\n",
        "entry_task = tkinter.Entry(app, width=50)\n",
        "entry_task.pack()\n",
        "\n",
        "button_add_task = tkinter.Button(app, text='Adicione uma tarefa', width = 48, command = add_task)\n",
        "button_add_task.pack()\n",
        "\n",
        "button_delete_task = tkinter.Button(app, text = 'Remover tarefa', width = 48, command = delete_task)\n",
        "button_delete_task.pack()\n",
        "\n",
        "button_load_tasks = tkinter.Button(app, text = 'Carregar tarefas', width = 48, command = load_tasks)\n",
        "button_load_tasks.pack()\n",
        "\n",
        "button_save_tasks = tkinter.Button(app, text = 'Salvar tarefa', width = 48, command = save_tasks)\n",
        "button_save_tasks.pack()\n",
        "\n",
        "app.mainloop()"
      ],
      "execution_count": null,
      "outputs": []
    },
    {
      "cell_type": "code",
      "metadata": {
        "colab": {
          "base_uri": "https://localhost:8080/"
        },
        "id": "BYtAPO3k3Ir7",
        "outputId": "8d6b31c6-3cb4-48cd-8992-5aa655ff02a0"
      },
      "source": [
        "nome = str(input('Digite um nome: '))\n",
        "x = ([print(i.upper(), end = ' ') for i in nome])"
      ],
      "execution_count": null,
      "outputs": [
        {
          "output_type": "stream",
          "name": "stdout",
          "text": [
            "Digite um nome: alexander xavier moreira\n",
            "A L E X A N D E R   X A V I E R   M O R E I R A "
          ]
        }
      ]
    },
    {
      "cell_type": "code",
      "metadata": {
        "id": "hd0U57RnB8IF",
        "colab": {
          "base_uri": "https://localhost:8080/"
        },
        "outputId": "1d509ef6-b243-4725-940a-741fd9988478"
      },
      "source": [
        "!pip install rich"
      ],
      "execution_count": null,
      "outputs": [
        {
          "output_type": "stream",
          "name": "stdout",
          "text": [
            "Collecting rich\n",
            "  Downloading rich-10.15.2-py3-none-any.whl (214 kB)\n",
            "\u001b[?25l\r\u001b[K     |█▌                              | 10 kB 18.8 MB/s eta 0:00:01\r\u001b[K     |███                             | 20 kB 20.4 MB/s eta 0:00:01\r\u001b[K     |████▋                           | 30 kB 16.4 MB/s eta 0:00:01\r\u001b[K     |██████▏                         | 40 kB 10.8 MB/s eta 0:00:01\r\u001b[K     |███████▋                        | 51 kB 5.5 MB/s eta 0:00:01\r\u001b[K     |█████████▏                      | 61 kB 5.4 MB/s eta 0:00:01\r\u001b[K     |██████████▊                     | 71 kB 5.8 MB/s eta 0:00:01\r\u001b[K     |████████████▎                   | 81 kB 6.4 MB/s eta 0:00:01\r\u001b[K     |█████████████▊                  | 92 kB 4.9 MB/s eta 0:00:01\r\u001b[K     |███████████████▎                | 102 kB 5.4 MB/s eta 0:00:01\r\u001b[K     |████████████████▉               | 112 kB 5.4 MB/s eta 0:00:01\r\u001b[K     |██████████████████▍             | 122 kB 5.4 MB/s eta 0:00:01\r\u001b[K     |███████████████████▉            | 133 kB 5.4 MB/s eta 0:00:01\r\u001b[K     |█████████████████████▍          | 143 kB 5.4 MB/s eta 0:00:01\r\u001b[K     |███████████████████████         | 153 kB 5.4 MB/s eta 0:00:01\r\u001b[K     |████████████████████████▌       | 163 kB 5.4 MB/s eta 0:00:01\r\u001b[K     |██████████████████████████      | 174 kB 5.4 MB/s eta 0:00:01\r\u001b[K     |███████████████████████████▌    | 184 kB 5.4 MB/s eta 0:00:01\r\u001b[K     |█████████████████████████████   | 194 kB 5.4 MB/s eta 0:00:01\r\u001b[K     |██████████████████████████████▋ | 204 kB 5.4 MB/s eta 0:00:01\r\u001b[K     |████████████████████████████████| 214 kB 5.4 MB/s \n",
            "\u001b[?25hRequirement already satisfied: typing-extensions<5.0,>=3.7.4 in /usr/local/lib/python3.7/dist-packages (from rich) (3.10.0.2)\n",
            "Requirement already satisfied: pygments<3.0.0,>=2.6.0 in /usr/local/lib/python3.7/dist-packages (from rich) (2.6.1)\n",
            "Collecting colorama<0.5.0,>=0.4.0\n",
            "  Downloading colorama-0.4.4-py2.py3-none-any.whl (16 kB)\n",
            "Collecting commonmark<0.10.0,>=0.9.0\n",
            "  Downloading commonmark-0.9.1-py2.py3-none-any.whl (51 kB)\n",
            "\u001b[K     |████████████████████████████████| 51 kB 6.2 MB/s \n",
            "\u001b[?25hInstalling collected packages: commonmark, colorama, rich\n",
            "Successfully installed colorama-0.4.4 commonmark-0.9.1 rich-10.15.2\n"
          ]
        }
      ]
    },
    {
      "cell_type": "code",
      "metadata": {
        "id": "A0bROPrJCpa2",
        "colab": {
          "base_uri": "https://localhost:8080/",
          "height": 187
        },
        "outputId": "43e5379f-a92f-417c-894f-5367619122b1"
      },
      "source": [
        "from rich import print\n",
        "nome = str(input('Seu nome: '))\n",
        "sobrenome = str(input('Seu sobrenome: '))\n",
        "print(f'Olá, meu nome é [underline][bold][yellow]{nome.title()} {sobrenome.title()}[/][/][/]')\n",
        "print(f'Olá, meu nome é [on black]{nome.title()} {sobrenome.title()}[/]')\n",
        "print('''\n",
        "\\n:brazil: Ouviram do Ipiranga as margens plácidas\n",
        "De um povo heróico o brado retumbante,\n",
        "E o sol da liberdade, em raios fúlgidos,\n",
        "Brilhou no céu da pátria nesse instante.\n",
        "        ''')"
      ],
      "execution_count": null,
      "outputs": [
        {
          "name": "stdout",
          "output_type": "stream",
          "text": [
            "Seu nome: alexander\n",
            "Seu sobrenome: moreira\n"
          ]
        },
        {
          "output_type": "display_data",
          "data": {
            "text/html": [
              "<pre style=\"white-space:pre;overflow-x:auto;line-height:normal;font-family:Menlo,'DejaVu Sans Mono',consolas,'Courier New',monospace\">Olá, meu nome é <span style=\"color: #808000; text-decoration-color: #808000; font-weight: bold; text-decoration: underline\">Alexander Moreira</span>\n",
              "</pre>\n"
            ],
            "text/plain": [
              "Olá, meu nome é \u001b[1;4;33mAlexander Moreira\u001b[0m\n"
            ]
          },
          "metadata": {}
        },
        {
          "output_type": "display_data",
          "data": {
            "text/html": [
              "<pre style=\"white-space:pre;overflow-x:auto;line-height:normal;font-family:Menlo,'DejaVu Sans Mono',consolas,'Courier New',monospace\">Olá, meu nome é <span style=\"background-color: #000000\">Alexander Moreira</span>\n",
              "</pre>\n"
            ],
            "text/plain": [
              "Olá, meu nome é \u001b[40mAlexander Moreira\u001b[0m\n"
            ]
          },
          "metadata": {}
        },
        {
          "output_type": "display_data",
          "data": {
            "text/html": [
              "<pre style=\"white-space:pre;overflow-x:auto;line-height:normal;font-family:Menlo,'DejaVu Sans Mono',consolas,'Courier New',monospace\">\n",
              "\n",
              "🇧🇷 Ouviram do Ipiranga as margens plácidas\n",
              "De um povo heróico o brado retumbante,\n",
              "E o sol da liberdade, em raios fúlgidos,\n",
              "Brilhou no céu da pátria nesse instante.\n",
              "        \n",
              "</pre>\n"
            ],
            "text/plain": [
              "\n",
              "\n",
              "🇧🇷 Ouviram do Ipiranga as margens plácidas\n",
              "De um povo heróico o brado retumbante,\n",
              "E o sol da liberdade, em raios fúlgidos,\n",
              "Brilhou no céu da pátria nesse instante.\n",
              "        \n"
            ]
          },
          "metadata": {}
        }
      ]
    },
    {
      "cell_type": "code",
      "metadata": {
        "id": "oYM064qwDDe-",
        "colab": {
          "base_uri": "https://localhost:8080/",
          "height": 67,
          "referenced_widgets": [
            "422f67b84c014c47adb8feb0e4645818",
            "eb684781e4be43469890707342a62815"
          ]
        },
        "outputId": "d8861b80-ad76-4f65-d9c8-e74823229f72"
      },
      "source": [
        "from rich.progress import track\n",
        "from time import sleep\n",
        "for tarefa in track(range(10), 'Progrees bar...'):\n",
        "    sleep(1)\n",
        "print('Hello, Wordl!')"
      ],
      "execution_count": null,
      "outputs": [
        {
          "output_type": "display_data",
          "data": {
            "application/vnd.jupyter.widget-view+json": {
              "model_id": "422f67b84c014c47adb8feb0e4645818",
              "version_minor": 0,
              "version_major": 2
            },
            "text/plain": [
              "Output()"
            ]
          },
          "metadata": {}
        },
        {
          "output_type": "display_data",
          "data": {
            "text/html": [
              "<pre style=\"white-space:pre;overflow-x:auto;line-height:normal;font-family:Menlo,'DejaVu Sans Mono',consolas,'Courier New',monospace\">Progrees bar... <span style=\"color: #729c1f; text-decoration-color: #729c1f\">━━━━━━━━━━━━━━━━━━━━━━━━━━━━━━━━━━━━━━━━</span> <span style=\"color: #800080; text-decoration-color: #800080\">100%</span> <span style=\"color: #008080; text-decoration-color: #008080\">0:00:00</span>\n",
              "</pre>\n"
            ],
            "text/plain": [
              "Progrees bar... \u001b[38;2;114;156;31m━━━━━━━━━━━━━━━━━━━━━━━━━━━━━━━━━━━━━━━━\u001b[0m \u001b[35m100%\u001b[0m \u001b[36m0:00:00\u001b[0m\n"
            ]
          },
          "metadata": {}
        },
        {
          "output_type": "display_data",
          "data": {
            "text/html": [
              "<pre style=\"white-space:pre;overflow-x:auto;line-height:normal;font-family:Menlo,'DejaVu Sans Mono',consolas,'Courier New',monospace\">\n",
              "</pre>\n"
            ],
            "text/plain": [
              "\n"
            ]
          },
          "metadata": {}
        },
        {
          "output_type": "display_data",
          "data": {
            "text/html": [
              "<pre style=\"white-space:pre;overflow-x:auto;line-height:normal;font-family:Menlo,'DejaVu Sans Mono',consolas,'Courier New',monospace\">Hello, Wordl!\n",
              "</pre>\n"
            ],
            "text/plain": [
              "Hello, Wordl!\n"
            ]
          },
          "metadata": {}
        }
      ]
    },
    {
      "cell_type": "code",
      "metadata": {
        "colab": {
          "background_save": true
        },
        "id": "DEU6S-hhIcnP"
      },
      "source": [
        "from rich.console import Console\n",
        "from time import sleep\n",
        "\n",
        "console = Console()\n",
        "def criar_arquivo():\n",
        "    for i in range(10):\n",
        "        with open('file[i].txt', 'w') as file:\n",
        "            file.write('Create e new file.')\n",
        "            sleep(1)\n",
        "            console.log(f'Hello. Create a {i} many file.')\n",
        "with console.status('[underline][bold][yellow]Make the job.[/][/][/]') as file:\n",
        "    criar_arquivo()\n"
      ],
      "execution_count": null,
      "outputs": []
    },
    {
      "cell_type": "code",
      "metadata": {
        "id": "Oq_ZDX07L4X3"
      },
      "source": [
        "from rich.table import Table\n",
        "from rich.console import Console\n",
        "\n",
        "console = Console()\n",
        "\n",
        "table = Table(title = 'Seções da CRO/11')\n",
        "\n",
        "table.add_column('Sec Pes', justify = 'left')\n",
        "table.add_column('SPP', justify = 'left')\n",
        "table.add_column('Sec Adm', justify='left')\n",
        "table.add_column('Set Fin', justify = 'left')\n",
        "table.add_column('Sec Tec', justify = 'left')\n",
        "table.add_column('SALC', justify = 'left')\n",
        "table.add_column('SCRG', justify = 'left')\n",
        "table.add_column('Sec Mat', justify = 'left')\n",
        "table.add_column('Sec Mnt Trnp', justify = 'left')\n",
        "\n",
        "table.add_row('Cap Robério'),('1º Teb Genesis')\n",
        "table.add_row('1º Ten Genesis'),('S Ten Lucídio')\n",
        "table.add_row('S Ten Alexander')\n",
        "table.add_row('3º Sgt Sampaio')\n",
        "table.add_row('3º Sgt Regyane')\n",
        "table.add_row('3º Sgt Max')\n",
        "table.add_row('Sd EV Portugal')\n",
        "table.add_row(' ')\n",
        "\n",
        "table.add_row('Cap Robério'),('1º Teb Genesis')\n",
        "table.add_row('1º Ten Genesis'),('S Ten Lucídio')\n",
        "table.add_row('S Ten Alexander')\n",
        "table.add_row('3º Sgt Sampaio')\n",
        "table.add_row('3º Sgt Regyane')\n",
        "table.add_row('3º Sgt Max')\n",
        "table.add_row('Sd EV Portugal')\n",
        "table.add_row(' ')\n",
        "\n",
        "console.print(table)"
      ],
      "execution_count": null,
      "outputs": []
    },
    {
      "cell_type": "code",
      "metadata": {
        "id": "Gzp_7z7bQkIU"
      },
      "source": [
        "from rich import print\n",
        "from rich.layout import Layout\n",
        "from rich.panel import Panel\n",
        "\n",
        "layout = Layout()\n",
        "\n",
        "layout.split_column(\n",
        "    Layout(Panel('My First app', style = 'on yellow white')),\n",
        "    Layout(name = 'top'),\n",
        "    Layout(name = 'down'),\n",
        "    Layout(Panel('App by Alex Moreira - @alexmoreira', style = 'on purple'))\n",
        ")\n",
        "layout['top'].split_row(\n",
        "    Layout('Left'),\n",
        "    Layout('Right')\n",
        ")\n",
        "print(layout)\n"
      ],
      "execution_count": null,
      "outputs": []
    },
    {
      "cell_type": "code",
      "metadata": {
        "id": "JUCPMRZ5ifD-"
      },
      "source": [
        "import os\n",
        "lista = []\n",
        "while True:\n",
        "    num = int(input('Num: '))\n",
        "    lista.append(num)\n",
        "    continuar = input('Continuar [s/n]: ')\n",
        "    if continuar in 'sS':\n",
        "        continue\n",
        "    else:\n",
        "        break\n",
        "os.system('clear')\n",
        "print('Maior: ', max(lista))\n",
        "print('Menor: ', min(lista))\n",
        "print('Média: ', (sum(lista)/(len(lista))))\n",
        "for p in lista:\n",
        "    if p % 2 == 0:\n",
        "        print('Par: ', p, '\\n')\n",
        "    elif p % 2 != 0:\n",
        "        print('Ímpar: ', p, end = ', ')\n",
        "print()\n",
        "print('Soma: ', sum(lista))"
      ],
      "execution_count": null,
      "outputs": []
    }
  ]
}